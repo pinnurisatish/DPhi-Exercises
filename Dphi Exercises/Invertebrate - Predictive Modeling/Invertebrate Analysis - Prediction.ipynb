{
 "cells": [
  {
   "cell_type": "code",
   "execution_count": 1,
   "metadata": {},
   "outputs": [],
   "source": [
    "#import required libraries for the data analysis\n",
    "import numpy as np\n",
    "import pandas as pd\n",
    "import matplotlib.pyplot as plt\n",
    "import seaborn as sns\n",
    "%matplotlib inline"
   ]
  },
  {
   "cell_type": "code",
   "execution_count": 2,
   "metadata": {},
   "outputs": [
    {
     "data": {
      "text/html": [
       "<div>\n",
       "<style scoped>\n",
       "    .dataframe tbody tr th:only-of-type {\n",
       "        vertical-align: middle;\n",
       "    }\n",
       "\n",
       "    .dataframe tbody tr th {\n",
       "        vertical-align: top;\n",
       "    }\n",
       "\n",
       "    .dataframe thead th {\n",
       "        text-align: right;\n",
       "    }\n",
       "</style>\n",
       "<table border=\"1\" class=\"dataframe\">\n",
       "  <thead>\n",
       "    <tr style=\"text-align: right;\">\n",
       "      <th></th>\n",
       "      <th>SWI</th>\n",
       "      <th>SWF</th>\n",
       "      <th>temperature</th>\n",
       "      <th>size</th>\n",
       "      <th>management</th>\n",
       "      <th>duration</th>\n",
       "    </tr>\n",
       "  </thead>\n",
       "  <tbody>\n",
       "    <tr>\n",
       "      <th>0</th>\n",
       "      <td>0.59</td>\n",
       "      <td>1.30</td>\n",
       "      <td>3.5</td>\n",
       "      <td>0.5</td>\n",
       "      <td>2</td>\n",
       "      <td>20</td>\n",
       "    </tr>\n",
       "    <tr>\n",
       "      <th>1</th>\n",
       "      <td>1.21</td>\n",
       "      <td>1.85</td>\n",
       "      <td>4.6</td>\n",
       "      <td>47.2</td>\n",
       "      <td>3</td>\n",
       "      <td>19</td>\n",
       "    </tr>\n",
       "    <tr>\n",
       "      <th>2</th>\n",
       "      <td>1.08</td>\n",
       "      <td>0.97</td>\n",
       "      <td>4.8</td>\n",
       "      <td>53.3</td>\n",
       "      <td>4</td>\n",
       "      <td>22</td>\n",
       "    </tr>\n",
       "    <tr>\n",
       "      <th>3</th>\n",
       "      <td>1.60</td>\n",
       "      <td>1.67</td>\n",
       "      <td>5.2</td>\n",
       "      <td>27.2</td>\n",
       "      <td>8</td>\n",
       "      <td>20</td>\n",
       "    </tr>\n",
       "    <tr>\n",
       "      <th>4</th>\n",
       "      <td>2.95</td>\n",
       "      <td>2.41</td>\n",
       "      <td>5.7</td>\n",
       "      <td>38.8</td>\n",
       "      <td>6</td>\n",
       "      <td>22</td>\n",
       "    </tr>\n",
       "  </tbody>\n",
       "</table>\n",
       "</div>"
      ],
      "text/plain": [
       "    SWI   SWF  temperature  size  management  duration\n",
       "0  0.59  1.30          3.5   0.5           2        20\n",
       "1  1.21  1.85          4.6  47.2           3        19\n",
       "2  1.08  0.97          4.8  53.3           4        22\n",
       "3  1.60  1.67          5.2  27.2           8        20\n",
       "4  2.95  2.41          5.7  38.8           6        22"
      ]
     },
     "execution_count": 2,
     "metadata": {},
     "output_type": "execute_result"
    }
   ],
   "source": [
    "#read csv\n",
    "df = pd.read_csv('https://raw.githubusercontent.com/dphi-official/Datasets/master/Invertebrate/Invertebrate_dataset.csv')\n",
    "df.head()"
   ]
  },
  {
   "cell_type": "code",
   "execution_count": 3,
   "metadata": {},
   "outputs": [
    {
     "name": "stdout",
     "output_type": "stream",
     "text": [
      "Requirement already satisfied: pandas-profiling in c:\\users\\csuftitan\\appdata\\local\\programs\\python\\python37\\lib\\site-packages (2.8.0)\n",
      "Requirement already satisfied: scipy>=1.4.1 in c:\\users\\csuftitan\\appdata\\local\\programs\\python\\python37\\lib\\site-packages (from pandas-profiling) (1.4.1)\n",
      "Requirement already satisfied: htmlmin>=0.1.12 in c:\\users\\csuftitan\\appdata\\local\\programs\\python\\python37\\lib\\site-packages (from pandas-profiling) (0.1.12)\n",
      "Requirement already satisfied: confuse>=1.0.0 in c:\\users\\csuftitan\\appdata\\local\\programs\\python\\python37\\lib\\site-packages (from pandas-profiling) (1.1.0)\n",
      "Requirement already satisfied: phik>=0.9.10 in c:\\users\\csuftitan\\appdata\\local\\programs\\python\\python37\\lib\\site-packages (from pandas-profiling) (0.10.0)\n",
      "Requirement already satisfied: requests>=2.23.0 in c:\\users\\csuftitan\\appdata\\local\\programs\\python\\python37\\lib\\site-packages (from pandas-profiling) (2.23.0)\n",
      "Requirement already satisfied: matplotlib>=3.2.0 in c:\\users\\csuftitan\\appdata\\local\\programs\\python\\python37\\lib\\site-packages (from pandas-profiling) (3.2.1)\n",
      "Requirement already satisfied: jinja2>=2.11.1 in c:\\users\\csuftitan\\appdata\\local\\programs\\python\\python37\\lib\\site-packages (from pandas-profiling) (2.11.2)\n",
      "Requirement already satisfied: pandas!=1.0.0,!=1.0.1,!=1.0.2,>=0.25.3 in c:\\users\\csuftitan\\appdata\\local\\programs\\python\\python37\\lib\\site-packages (from pandas-profiling) (1.0.3)\n",
      "Requirement already satisfied: joblib in c:\\users\\csuftitan\\appdata\\local\\programs\\python\\python37\\lib\\site-packages (from pandas-profiling) (0.14.1)\n",
      "Requirement already satisfied: numpy>=1.16.0 in c:\\users\\csuftitan\\appdata\\local\\programs\\python\\python37\\lib\\site-packages (from pandas-profiling) (1.18.3)\n",
      "Requirement already satisfied: astropy>=4.0 in c:\\users\\csuftitan\\appdata\\local\\programs\\python\\python37\\lib\\site-packages (from pandas-profiling) (4.0.1.post1)\n",
      "Requirement already satisfied: tqdm>=4.43.0 in c:\\users\\csuftitan\\appdata\\local\\programs\\python\\python37\\lib\\site-packages (from pandas-profiling) (4.45.0)\n",
      "Requirement already satisfied: missingno>=0.4.2 in c:\\users\\csuftitan\\appdata\\local\\programs\\python\\python37\\lib\\site-packages (from pandas-profiling) (0.4.2)\n",
      "Requirement already satisfied: visions[type_image_path]==0.4.4 in c:\\users\\csuftitan\\appdata\\local\\programs\\python\\python37\\lib\\site-packages (from pandas-profiling) (0.4.4)\n",
      "Requirement already satisfied: tangled-up-in-unicode>=0.0.6 in c:\\users\\csuftitan\\appdata\\local\\programs\\python\\python37\\lib\\site-packages (from pandas-profiling) (0.0.6)\n",
      "Requirement already satisfied: ipywidgets>=7.5.1 in c:\\users\\csuftitan\\appdata\\local\\programs\\python\\python37\\lib\\site-packages (from pandas-profiling) (7.5.1)\n",
      "Requirement already satisfied: pyyaml in c:\\users\\csuftitan\\appdata\\local\\programs\\python\\python37\\lib\\site-packages (from confuse>=1.0.0->pandas-profiling) (5.3.1)\n",
      "Requirement already satisfied: numba>=0.38.1 in c:\\users\\csuftitan\\appdata\\local\\programs\\python\\python37\\lib\\site-packages (from phik>=0.9.10->pandas-profiling) (0.50.0)\n",
      "Requirement already satisfied: idna<3,>=2.5 in c:\\users\\csuftitan\\appdata\\local\\programs\\python\\python37\\lib\\site-packages (from requests>=2.23.0->pandas-profiling) (2.9)\n",
      "Requirement already satisfied: certifi>=2017.4.17 in c:\\users\\csuftitan\\appdata\\local\\programs\\python\\python37\\lib\\site-packages (from requests>=2.23.0->pandas-profiling) (2020.4.5.1)\n",
      "Requirement already satisfied: chardet<4,>=3.0.2 in c:\\users\\csuftitan\\appdata\\local\\programs\\python\\python37\\lib\\site-packages (from requests>=2.23.0->pandas-profiling) (3.0.4)\n",
      "Requirement already satisfied: urllib3!=1.25.0,!=1.25.1,<1.26,>=1.21.1 in c:\\users\\csuftitan\\appdata\\local\\programs\\python\\python37\\lib\\site-packages (from requests>=2.23.0->pandas-profiling) (1.25.9)\n",
      "Requirement already satisfied: pyparsing!=2.0.4,!=2.1.2,!=2.1.6,>=2.0.1 in c:\\users\\csuftitan\\appdata\\local\\programs\\python\\python37\\lib\\site-packages (from matplotlib>=3.2.0->pandas-profiling) (2.4.7)\n",
      "Requirement already satisfied: kiwisolver>=1.0.1 in c:\\users\\csuftitan\\appdata\\local\\programs\\python\\python37\\lib\\site-packages (from matplotlib>=3.2.0->pandas-profiling) (1.2.0)\n",
      "Requirement already satisfied: python-dateutil>=2.1 in c:\\users\\csuftitan\\appdata\\local\\programs\\python\\python37\\lib\\site-packages (from matplotlib>=3.2.0->pandas-profiling) (2.8.1)\n",
      "Requirement already satisfied: cycler>=0.10 in c:\\users\\csuftitan\\appdata\\local\\programs\\python\\python37\\lib\\site-packages (from matplotlib>=3.2.0->pandas-profiling) (0.10.0)\n",
      "Requirement already satisfied: MarkupSafe>=0.23 in c:\\users\\csuftitan\\appdata\\local\\programs\\python\\python37\\lib\\site-packages (from jinja2>=2.11.1->pandas-profiling) (1.1.1)\n",
      "Requirement already satisfied: pytz>=2017.2 in c:\\users\\csuftitan\\appdata\\local\\programs\\python\\python37\\lib\\site-packages (from pandas!=1.0.0,!=1.0.1,!=1.0.2,>=0.25.3->pandas-profiling) (2019.3)\n",
      "Requirement already satisfied: seaborn in c:\\users\\csuftitan\\appdata\\local\\programs\\python\\python37\\lib\\site-packages (from missingno>=0.4.2->pandas-profiling) (0.10.1)\n",
      "Requirement already satisfied: attrs>=19.3.0 in c:\\users\\csuftitan\\appdata\\local\\programs\\python\\python37\\lib\\site-packages (from visions[type_image_path]==0.4.4->pandas-profiling) (19.3.0)\n",
      "Requirement already satisfied: networkx>=2.4 in c:\\users\\csuftitan\\appdata\\local\\programs\\python\\python37\\lib\\site-packages (from visions[type_image_path]==0.4.4->pandas-profiling) (2.4)\n",
      "Requirement already satisfied: imagehash; extra == \"type_image_path\" in c:\\users\\csuftitan\\appdata\\local\\programs\\python\\python37\\lib\\site-packages (from visions[type_image_path]==0.4.4->pandas-profiling) (4.1.0)\n",
      "Requirement already satisfied: Pillow; extra == \"type_image_path\" in c:\\users\\csuftitan\\appdata\\local\\programs\\python\\python37\\lib\\site-packages (from visions[type_image_path]==0.4.4->pandas-profiling) (7.1.2)\n",
      "Requirement already satisfied: nbformat>=4.2.0 in c:\\users\\csuftitan\\appdata\\local\\programs\\python\\python37\\lib\\site-packages (from ipywidgets>=7.5.1->pandas-profiling) (5.0.4)\n",
      "Requirement already satisfied: ipython>=4.0.0; python_version >= \"3.3\" in c:\\users\\csuftitan\\appdata\\local\\programs\\python\\python37\\lib\\site-packages (from ipywidgets>=7.5.1->pandas-profiling) (7.11.1)\n",
      "Requirement already satisfied: widgetsnbextension~=3.5.0 in c:\\users\\csuftitan\\appdata\\local\\programs\\python\\python37\\lib\\site-packages (from ipywidgets>=7.5.1->pandas-profiling) (3.5.1)\n",
      "Requirement already satisfied: ipykernel>=4.5.1 in c:\\users\\csuftitan\\appdata\\local\\programs\\python\\python37\\lib\\site-packages (from ipywidgets>=7.5.1->pandas-profiling) (5.1.4)\n",
      "Requirement already satisfied: traitlets>=4.3.1 in c:\\users\\csuftitan\\appdata\\local\\programs\\python\\python37\\lib\\site-packages (from ipywidgets>=7.5.1->pandas-profiling) (4.3.3)\n",
      "Requirement already satisfied: llvmlite<0.34,>=0.33.0.dev0 in c:\\users\\csuftitan\\appdata\\local\\programs\\python\\python37\\lib\\site-packages (from numba>=0.38.1->phik>=0.9.10->pandas-profiling) (0.33.0)\n",
      "Requirement already satisfied: setuptools in c:\\users\\csuftitan\\appdata\\local\\programs\\python\\python37\\lib\\site-packages (from numba>=0.38.1->phik>=0.9.10->pandas-profiling) (41.2.0)\n",
      "Requirement already satisfied: six>=1.5 in c:\\users\\csuftitan\\appdata\\local\\programs\\python\\python37\\lib\\site-packages (from python-dateutil>=2.1->matplotlib>=3.2.0->pandas-profiling) (1.14.0)\n",
      "Requirement already satisfied: decorator>=4.3.0 in c:\\users\\csuftitan\\appdata\\local\\programs\\python\\python37\\lib\\site-packages (from networkx>=2.4->visions[type_image_path]==0.4.4->pandas-profiling) (4.4.1)\n",
      "Requirement already satisfied: PyWavelets in c:\\users\\csuftitan\\appdata\\local\\programs\\python\\python37\\lib\\site-packages (from imagehash; extra == \"type_image_path\"->visions[type_image_path]==0.4.4->pandas-profiling) (1.1.1)\n",
      "Requirement already satisfied: jsonschema!=2.5.0,>=2.4 in c:\\users\\csuftitan\\appdata\\local\\programs\\python\\python37\\lib\\site-packages (from nbformat>=4.2.0->ipywidgets>=7.5.1->pandas-profiling) (3.2.0)\n",
      "Requirement already satisfied: jupyter-core in c:\\users\\csuftitan\\appdata\\local\\programs\\python\\python37\\lib\\site-packages (from nbformat>=4.2.0->ipywidgets>=7.5.1->pandas-profiling) (4.6.1)\n",
      "Requirement already satisfied: ipython-genutils in c:\\users\\csuftitan\\appdata\\local\\programs\\python\\python37\\lib\\site-packages (from nbformat>=4.2.0->ipywidgets>=7.5.1->pandas-profiling) (0.2.0)\n",
      "Requirement already satisfied: colorama; sys_platform == \"win32\" in c:\\users\\csuftitan\\appdata\\local\\programs\\python\\python37\\lib\\site-packages (from ipython>=4.0.0; python_version >= \"3.3\"->ipywidgets>=7.5.1->pandas-profiling) (0.4.3)\n",
      "Requirement already satisfied: pickleshare in c:\\users\\csuftitan\\appdata\\local\\programs\\python\\python37\\lib\\site-packages (from ipython>=4.0.0; python_version >= \"3.3\"->ipywidgets>=7.5.1->pandas-profiling) (0.7.5)\n",
      "Requirement already satisfied: prompt-toolkit!=3.0.0,!=3.0.1,<3.1.0,>=2.0.0 in c:\\users\\csuftitan\\appdata\\local\\programs\\python\\python37\\lib\\site-packages (from ipython>=4.0.0; python_version >= \"3.3\"->ipywidgets>=7.5.1->pandas-profiling) (3.0.3)\n",
      "Requirement already satisfied: backcall in c:\\users\\csuftitan\\appdata\\local\\programs\\python\\python37\\lib\\site-packages (from ipython>=4.0.0; python_version >= \"3.3\"->ipywidgets>=7.5.1->pandas-profiling) (0.1.0)\n",
      "Requirement already satisfied: jedi>=0.10 in c:\\users\\csuftitan\\appdata\\local\\programs\\python\\python37\\lib\\site-packages (from ipython>=4.0.0; python_version >= \"3.3\"->ipywidgets>=7.5.1->pandas-profiling) (0.16.0)\n",
      "Requirement already satisfied: pygments in c:\\users\\csuftitan\\appdata\\local\\programs\\python\\python37\\lib\\site-packages (from ipython>=4.0.0; python_version >= \"3.3\"->ipywidgets>=7.5.1->pandas-profiling) (2.5.2)\n",
      "Requirement already satisfied: notebook>=4.4.1 in c:\\users\\csuftitan\\appdata\\local\\programs\\python\\python37\\lib\\site-packages (from widgetsnbextension~=3.5.0->ipywidgets>=7.5.1->pandas-profiling) (6.0.3)\n",
      "Requirement already satisfied: tornado>=4.2 in c:\\users\\csuftitan\\appdata\\local\\programs\\python\\python37\\lib\\site-packages (from ipykernel>=4.5.1->ipywidgets>=7.5.1->pandas-profiling) (6.0.3)\n",
      "Requirement already satisfied: jupyter-client in c:\\users\\csuftitan\\appdata\\local\\programs\\python\\python37\\lib\\site-packages (from ipykernel>=4.5.1->ipywidgets>=7.5.1->pandas-profiling) (5.3.4)\n",
      "Requirement already satisfied: pyrsistent>=0.14.0 in c:\\users\\csuftitan\\appdata\\local\\programs\\python\\python37\\lib\\site-packages (from jsonschema!=2.5.0,>=2.4->nbformat>=4.2.0->ipywidgets>=7.5.1->pandas-profiling) (0.15.7)\n",
      "Requirement already satisfied: importlib-metadata; python_version < \"3.8\" in c:\\users\\csuftitan\\appdata\\local\\programs\\python\\python37\\lib\\site-packages (from jsonschema!=2.5.0,>=2.4->nbformat>=4.2.0->ipywidgets>=7.5.1->pandas-profiling) (1.4.0)\n",
      "Requirement already satisfied: pywin32>=1.0; sys_platform == \"win32\" in c:\\users\\csuftitan\\appdata\\local\\programs\\python\\python37\\lib\\site-packages (from jupyter-core->nbformat>=4.2.0->ipywidgets>=7.5.1->pandas-profiling) (227)\n",
      "Requirement already satisfied: wcwidth in c:\\users\\csuftitan\\appdata\\local\\programs\\python\\python37\\lib\\site-packages (from prompt-toolkit!=3.0.0,!=3.0.1,<3.1.0,>=2.0.0->ipython>=4.0.0; python_version >= \"3.3\"->ipywidgets>=7.5.1->pandas-profiling) (0.1.8)\n",
      "Requirement already satisfied: parso>=0.5.2 in c:\\users\\csuftitan\\appdata\\local\\programs\\python\\python37\\lib\\site-packages (from jedi>=0.10->ipython>=4.0.0; python_version >= \"3.3\"->ipywidgets>=7.5.1->pandas-profiling) (0.6.0)\n",
      "Requirement already satisfied: Send2Trash in c:\\users\\csuftitan\\appdata\\local\\programs\\python\\python37\\lib\\site-packages (from notebook>=4.4.1->widgetsnbextension~=3.5.0->ipywidgets>=7.5.1->pandas-profiling) (1.5.0)\n",
      "Requirement already satisfied: pyzmq>=17 in c:\\users\\csuftitan\\appdata\\local\\programs\\python\\python37\\lib\\site-packages (from notebook>=4.4.1->widgetsnbextension~=3.5.0->ipywidgets>=7.5.1->pandas-profiling) (18.1.1)\n",
      "Requirement already satisfied: nbconvert in c:\\users\\csuftitan\\appdata\\local\\programs\\python\\python37\\lib\\site-packages (from notebook>=4.4.1->widgetsnbextension~=3.5.0->ipywidgets>=7.5.1->pandas-profiling) (5.6.1)\n",
      "Requirement already satisfied: prometheus-client in c:\\users\\csuftitan\\appdata\\local\\programs\\python\\python37\\lib\\site-packages (from notebook>=4.4.1->widgetsnbextension~=3.5.0->ipywidgets>=7.5.1->pandas-profiling) (0.7.1)\n",
      "Requirement already satisfied: terminado>=0.8.1 in c:\\users\\csuftitan\\appdata\\local\\programs\\python\\python37\\lib\\site-packages (from notebook>=4.4.1->widgetsnbextension~=3.5.0->ipywidgets>=7.5.1->pandas-profiling) (0.8.3)\n",
      "Requirement already satisfied: zipp>=0.5 in c:\\users\\csuftitan\\appdata\\local\\programs\\python\\python37\\lib\\site-packages (from importlib-metadata; python_version < \"3.8\"->jsonschema!=2.5.0,>=2.4->nbformat>=4.2.0->ipywidgets>=7.5.1->pandas-profiling) (2.1.0)\n",
      "Requirement already satisfied: bleach in c:\\users\\csuftitan\\appdata\\local\\programs\\python\\python37\\lib\\site-packages (from nbconvert->notebook>=4.4.1->widgetsnbextension~=3.5.0->ipywidgets>=7.5.1->pandas-profiling) (3.1.0)\n",
      "Requirement already satisfied: defusedxml in c:\\users\\csuftitan\\appdata\\local\\programs\\python\\python37\\lib\\site-packages (from nbconvert->notebook>=4.4.1->widgetsnbextension~=3.5.0->ipywidgets>=7.5.1->pandas-profiling) (0.6.0)\n",
      "Requirement already satisfied: mistune<2,>=0.8.1 in c:\\users\\csuftitan\\appdata\\local\\programs\\python\\python37\\lib\\site-packages (from nbconvert->notebook>=4.4.1->widgetsnbextension~=3.5.0->ipywidgets>=7.5.1->pandas-profiling) (0.8.4)\n",
      "Requirement already satisfied: testpath in c:\\users\\csuftitan\\appdata\\local\\programs\\python\\python37\\lib\\site-packages (from nbconvert->notebook>=4.4.1->widgetsnbextension~=3.5.0->ipywidgets>=7.5.1->pandas-profiling) (0.4.4)\n",
      "Requirement already satisfied: pandocfilters>=1.4.1 in c:\\users\\csuftitan\\appdata\\local\\programs\\python\\python37\\lib\\site-packages (from nbconvert->notebook>=4.4.1->widgetsnbextension~=3.5.0->ipywidgets>=7.5.1->pandas-profiling) (1.4.2)\n",
      "Requirement already satisfied: entrypoints>=0.2.2 in c:\\users\\csuftitan\\appdata\\local\\programs\\python\\python37\\lib\\site-packages (from nbconvert->notebook>=4.4.1->widgetsnbextension~=3.5.0->ipywidgets>=7.5.1->pandas-profiling) (0.3)\n",
      "Requirement already satisfied: pywinpty>=0.5; os_name == \"nt\" in c:\\users\\csuftitan\\appdata\\local\\programs\\python\\python37\\lib\\site-packages (from terminado>=0.8.1->notebook>=4.4.1->widgetsnbextension~=3.5.0->ipywidgets>=7.5.1->pandas-profiling) (0.5.7)\n",
      "Requirement already satisfied: webencodings in c:\\users\\csuftitan\\appdata\\local\\programs\\python\\python37\\lib\\site-packages (from bleach->nbconvert->notebook>=4.4.1->widgetsnbextension~=3.5.0->ipywidgets>=7.5.1->pandas-profiling) (0.5.1)\n"
     ]
    },
    {
     "name": "stderr",
     "output_type": "stream",
     "text": [
      "WARNING: You are using pip version 20.0.2; however, version 20.1.1 is available.\n",
      "You should consider upgrading via the 'c:\\users\\csuftitan\\appdata\\local\\programs\\python\\python37\\python.exe -m pip install --upgrade pip' command.\n"
     ]
    },
    {
     "data": {
      "application/vnd.jupyter.widget-view+json": {
       "model_id": "6b1b9883e7fd4685ac8ab3614969bf13",
       "version_major": 2,
       "version_minor": 0
      },
      "text/plain": [
       "HBox(children=(FloatProgress(value=0.0, description='Summarize dataset', max=20.0, style=ProgressStyle(descrip…"
      ]
     },
     "metadata": {},
     "output_type": "display_data"
    },
    {
     "name": "stdout",
     "output_type": "stream",
     "text": [
      "\n"
     ]
    },
    {
     "data": {
      "application/vnd.jupyter.widget-view+json": {
       "model_id": "2216ac4585d64a9b82436bc039bd9023",
       "version_major": 2,
       "version_minor": 0
      },
      "text/plain": [
       "HBox(children=(FloatProgress(value=0.0, description='Generate report structure', max=1.0, style=ProgressStyle(…"
      ]
     },
     "metadata": {},
     "output_type": "display_data"
    },
    {
     "name": "stdout",
     "output_type": "stream",
     "text": [
      "\n"
     ]
    },
    {
     "data": {
      "application/vnd.jupyter.widget-view+json": {
       "model_id": "d97a4b10238049dfa69f09e6bfa158e1",
       "version_major": 2,
       "version_minor": 0
      },
      "text/plain": [
       "HBox(children=(FloatProgress(value=0.0, description='Render HTML', max=1.0, style=ProgressStyle(description_wi…"
      ]
     },
     "metadata": {},
     "output_type": "display_data"
    },
    {
     "name": "stdout",
     "output_type": "stream",
     "text": [
      "\n"
     ]
    },
    {
     "data": {
      "application/vnd.jupyter.widget-view+json": {
       "model_id": "3ac80c1b9865464cb0413e9e507a8102",
       "version_major": 2,
       "version_minor": 0
      },
      "text/plain": [
       "HBox(children=(FloatProgress(value=0.0, description='Export report to file', max=1.0, style=ProgressStyle(desc…"
      ]
     },
     "metadata": {},
     "output_type": "display_data"
    },
    {
     "name": "stdout",
     "output_type": "stream",
     "text": [
      "\n"
     ]
    }
   ],
   "source": [
    "#profiling the data\n",
    "!pip install pandas-profiling\n",
    "import pandas_profiling \n",
    "\n",
    "profile = pandas_profiling.ProfileReport(df)\n",
    "# exporting  profile to html\n",
    "profile.to_file(\"profile_report.html\")"
   ]
  },
  {
   "cell_type": "code",
   "execution_count": 4,
   "metadata": {},
   "outputs": [
    {
     "data": {
      "text/plain": [
       "(280, 6)"
      ]
     },
     "execution_count": 4,
     "metadata": {},
     "output_type": "execute_result"
    }
   ],
   "source": [
    "# display the number of rows and columns\n",
    "df.shape"
   ]
  },
  {
   "cell_type": "code",
   "execution_count": 24,
   "metadata": {},
   "outputs": [
    {
     "name": "stdout",
     "output_type": "stream",
     "text": [
      "<class 'pandas.core.frame.DataFrame'>\n",
      "RangeIndex: 280 entries, 0 to 279\n",
      "Data columns (total 6 columns):\n",
      " #   Column       Non-Null Count  Dtype  \n",
      "---  ------       --------------  -----  \n",
      " 0   SWI          280 non-null    float64\n",
      " 1   SWF          280 non-null    float64\n",
      " 2   temperature  280 non-null    float64\n",
      " 3   size         280 non-null    float64\n",
      " 4   management   280 non-null    int64  \n",
      " 5   duration     280 non-null    int64  \n",
      "dtypes: float64(4), int64(2)\n",
      "memory usage: 13.2 KB\n"
     ]
    }
   ],
   "source": [
    "#check basic info\n",
    "df.info()"
   ]
  },
  {
   "cell_type": "code",
   "execution_count": 5,
   "metadata": {},
   "outputs": [
    {
     "data": {
      "text/plain": [
       "0"
      ]
     },
     "execution_count": 5,
     "metadata": {},
     "output_type": "execute_result"
    }
   ],
   "source": [
    "#check for duplicates\n",
    "df.duplicated().sum()"
   ]
  },
  {
   "cell_type": "code",
   "execution_count": 23,
   "metadata": {},
   "outputs": [
    {
     "data": {
      "text/plain": [
       "SWI            0\n",
       "SWF            0\n",
       "temperature    0\n",
       "size           0\n",
       "management     0\n",
       "duration       0\n",
       "dtype: int64"
      ]
     },
     "execution_count": 23,
     "metadata": {},
     "output_type": "execute_result"
    }
   ],
   "source": [
    "#Check null values\n",
    "df.isnull().sum()"
   ]
  },
  {
   "cell_type": "code",
   "execution_count": 6,
   "metadata": {},
   "outputs": [
    {
     "data": {
      "image/png": "[encoded data removed]",
      "text/plain": [
       "<Figure size 1152x864 with 6 Axes>"
      ]
     },
     "metadata": {},
     "output_type": "display_data"
    }
   ],
   "source": [
    "# check the distributions of all the variables\n",
    "df.hist(bins=10, figsize=(16,12))\n",
    "plt.show()"
   ]
  },
  {
   "cell_type": "code",
   "execution_count": 7,
   "metadata": {},
   "outputs": [
    {
     "data": {
      "text/html": [
       "<div>\n",
       "<style scoped>\n",
       "    .dataframe tbody tr th:only-of-type {\n",
       "        vertical-align: middle;\n",
       "    }\n",
       "\n",
       "    .dataframe tbody tr th {\n",
       "        vertical-align: top;\n",
       "    }\n",
       "\n",
       "    .dataframe thead th {\n",
       "        text-align: right;\n",
       "    }\n",
       "</style>\n",
       "<table border=\"1\" class=\"dataframe\">\n",
       "  <thead>\n",
       "    <tr style=\"text-align: right;\">\n",
       "      <th></th>\n",
       "      <th>SWI</th>\n",
       "      <th>SWF</th>\n",
       "      <th>temperature</th>\n",
       "      <th>size</th>\n",
       "      <th>management</th>\n",
       "      <th>duration</th>\n",
       "    </tr>\n",
       "  </thead>\n",
       "  <tbody>\n",
       "    <tr>\n",
       "      <th>SWI</th>\n",
       "      <td>1.000000</td>\n",
       "      <td>0.680071</td>\n",
       "      <td>0.254698</td>\n",
       "      <td>-0.016571</td>\n",
       "      <td>0.300495</td>\n",
       "      <td>0.214081</td>\n",
       "    </tr>\n",
       "    <tr>\n",
       "      <th>SWF</th>\n",
       "      <td>0.680071</td>\n",
       "      <td>1.000000</td>\n",
       "      <td>-0.065078</td>\n",
       "      <td>0.004630</td>\n",
       "      <td>0.077577</td>\n",
       "      <td>-0.093165</td>\n",
       "    </tr>\n",
       "    <tr>\n",
       "      <th>temperature</th>\n",
       "      <td>0.254698</td>\n",
       "      <td>-0.065078</td>\n",
       "      <td>1.000000</td>\n",
       "      <td>0.006262</td>\n",
       "      <td>-0.007137</td>\n",
       "      <td>0.874055</td>\n",
       "    </tr>\n",
       "    <tr>\n",
       "      <th>size</th>\n",
       "      <td>-0.016571</td>\n",
       "      <td>0.004630</td>\n",
       "      <td>0.006262</td>\n",
       "      <td>1.000000</td>\n",
       "      <td>0.020412</td>\n",
       "      <td>-0.043318</td>\n",
       "    </tr>\n",
       "    <tr>\n",
       "      <th>management</th>\n",
       "      <td>0.300495</td>\n",
       "      <td>0.077577</td>\n",
       "      <td>-0.007137</td>\n",
       "      <td>0.020412</td>\n",
       "      <td>1.000000</td>\n",
       "      <td>-0.017970</td>\n",
       "    </tr>\n",
       "    <tr>\n",
       "      <th>duration</th>\n",
       "      <td>0.214081</td>\n",
       "      <td>-0.093165</td>\n",
       "      <td>0.874055</td>\n",
       "      <td>-0.043318</td>\n",
       "      <td>-0.017970</td>\n",
       "      <td>1.000000</td>\n",
       "    </tr>\n",
       "  </tbody>\n",
       "</table>\n",
       "</div>"
      ],
      "text/plain": [
       "                  SWI       SWF  temperature      size  management  duration\n",
       "SWI          1.000000  0.680071     0.254698 -0.016571    0.300495  0.214081\n",
       "SWF          0.680071  1.000000    -0.065078  0.004630    0.077577 -0.093165\n",
       "temperature  0.254698 -0.065078     1.000000  0.006262   -0.007137  0.874055\n",
       "size        -0.016571  0.004630     0.006262  1.000000    0.020412 -0.043318\n",
       "management   0.300495  0.077577    -0.007137  0.020412    1.000000 -0.017970\n",
       "duration     0.214081 -0.093165     0.874055 -0.043318   -0.017970  1.000000"
      ]
     },
     "execution_count": 7,
     "metadata": {},
     "output_type": "execute_result"
    }
   ],
   "source": [
    "#find the correlation values among varibles\n",
    "corr = df.corr()\n",
    "corr"
   ]
  },
  {
   "cell_type": "code",
   "execution_count": 10,
   "metadata": {},
   "outputs": [
    {
     "data": {
      "text/plain": [
       "<matplotlib.axes._subplots.AxesSubplot at 0x218cdd88e48>"
      ]
     },
     "execution_count": 10,
     "metadata": {},
     "output_type": "execute_result"
    },
    {
     "data": {
      "image/png": "[encoded data removed]",
      "text/plain": [
       "<Figure size 720x432 with 2 Axes>"
      ]
     },
     "metadata": {},
     "output_type": "display_data"
    }
   ],
   "source": [
    "#draw a heatmap based on correlation values\n",
    "fig, ax = plt.subplots(figsize=(10,6))  \n",
    "sns.heatmap(corr, annot = True, cmap=\"RdYlGn\")"
   ]
  },
  {
   "cell_type": "code",
   "execution_count": 12,
   "metadata": {},
   "outputs": [],
   "source": [
    "# Splitting data into Input and Target Variable\n",
    "\n",
    "y = df[['SWI']]  # target variable i.e SWI\n",
    "X = df.drop(['SWI'], axis=1)  # input variables"
   ]
  },
  {
   "cell_type": "code",
   "execution_count": 13,
   "metadata": {},
   "outputs": [],
   "source": [
    "# Split into train and test sets\n",
    "from sklearn.model_selection import train_test_split\n",
    "\n",
    "X_train, X_test, y_train, y_test = train_test_split(X, y, \n",
    "                                                    test_size=0.1, \n",
    "                                                    random_state=2)"
   ]
  },
  {
   "cell_type": "markdown",
   "metadata": {},
   "source": [
    "# Building the baseline model"
   ]
  },
  {
   "cell_type": "code",
   "execution_count": 15,
   "metadata": {},
   "outputs": [],
   "source": [
    "\n",
    "# Building the Linear Regression model\n",
    "from sklearn.linear_model import LinearRegression\n",
    "\n",
    "lr = LinearRegression()      \n",
    "lr_baseline_model = lr.fit(X_train,y_train)"
   ]
  },
  {
   "cell_type": "code",
   "execution_count": 18,
   "metadata": {},
   "outputs": [
    {
     "data": {
      "text/plain": [
       "array([[1.67702091],\n",
       "       [0.83110001],\n",
       "       [2.2670974 ],\n",
       "       [1.63297974],\n",
       "       [1.88926081],\n",
       "       [2.09534665],\n",
       "       [1.52484871],\n",
       "       [1.89289493],\n",
       "       [1.74431753],\n",
       "       [1.89021003],\n",
       "       [2.27804698],\n",
       "       [1.59573237],\n",
       "       [2.00891006],\n",
       "       [1.55867498],\n",
       "       [2.13286007],\n",
       "       [1.77303372],\n",
       "       [1.61992631],\n",
       "       [2.08132612],\n",
       "       [2.64263971],\n",
       "       [2.66380814],\n",
       "       [1.811981  ],\n",
       "       [1.22063749],\n",
       "       [1.99340259],\n",
       "       [2.19263525],\n",
       "       [1.06875109],\n",
       "       [1.29997954],\n",
       "       [2.38156233],\n",
       "       [1.52126906]])"
      ]
     },
     "execution_count": 18,
     "metadata": {},
     "output_type": "execute_result"
    }
   ],
   "source": [
    "#predict values for test set\n",
    "y_pred = lr_baseline_model.predict(X_test)\n",
    "y_pred"
   ]
  },
  {
   "cell_type": "code",
   "execution_count": 17,
   "metadata": {},
   "outputs": [
    {
     "name": "stdout",
     "output_type": "stream",
     "text": [
      "0.22633545997294227\n",
      "0.07342119289377443\n",
      "0.2709634530592169\n"
     ]
    }
   ],
   "source": [
    "# Noting down accuracy of the baseline model\n",
    "# import metrics library\n",
    "from sklearn import metrics\n",
    "\n",
    "# print result of MAE\n",
    "print(metrics.mean_absolute_error(y_test, y_pred))\n",
    "\n",
    "#print result of MSE\n",
    "print(metrics.mean_squared_error(y_test, y_pred))\n",
    "\n",
    "#print result of RMSE\n",
    "print(np.sqrt(metrics.mean_squared_error(y_test, y_pred)))"
   ]
  },
  {
   "cell_type": "code",
   "execution_count": 20,
   "metadata": {},
   "outputs": [],
   "source": [
    "#unseen test data\n",
    "test_new = pd.read_csv('https://raw.githubusercontent.com/dphi-official/Datasets/master/Invertebrate/Invertebrate_new_test_data.csv')\n"
   ]
  },
  {
   "cell_type": "code",
   "execution_count": 21,
   "metadata": {},
   "outputs": [
    {
     "data": {
      "text/plain": [
       "array([[1.62989521],\n",
       "       [1.98451792],\n",
       "       [2.39401018],\n",
       "       [2.68680152],\n",
       "       [1.76061999],\n",
       "       [3.18106094],\n",
       "       [2.39932678],\n",
       "       [2.30877904],\n",
       "       [1.96165948],\n",
       "       [1.95962163],\n",
       "       [2.44795831],\n",
       "       [2.19412359],\n",
       "       [1.8864434 ],\n",
       "       [2.97786382],\n",
       "       [1.7171924 ],\n",
       "       [2.07844156],\n",
       "       [2.38637961],\n",
       "       [1.90564131],\n",
       "       [1.93582554],\n",
       "       [1.98561732],\n",
       "       [2.81545754],\n",
       "       [1.73944741],\n",
       "       [2.56958882],\n",
       "       [2.29529617],\n",
       "       [2.89631122],\n",
       "       [2.37454234],\n",
       "       [1.74827632],\n",
       "       [2.02742106],\n",
       "       [3.10741398],\n",
       "       [1.62665201],\n",
       "       [2.29705992],\n",
       "       [2.03332485],\n",
       "       [2.91419443],\n",
       "       [2.79033169],\n",
       "       [1.78501635],\n",
       "       [2.86446632],\n",
       "       [2.88887984],\n",
       "       [2.44012344],\n",
       "       [1.75271291],\n",
       "       [1.79156154],\n",
       "       [1.56199395],\n",
       "       [2.58988789],\n",
       "       [2.90601538],\n",
       "       [2.86837236],\n",
       "       [2.21773557],\n",
       "       [2.76043993],\n",
       "       [1.69349804],\n",
       "       [2.09255247],\n",
       "       [2.70901334],\n",
       "       [3.01522276],\n",
       "       [1.76629342],\n",
       "       [2.75788935],\n",
       "       [2.73167974],\n",
       "       [2.49608251],\n",
       "       [2.24663275],\n",
       "       [1.80259937],\n",
       "       [2.35436436],\n",
       "       [1.36721772],\n",
       "       [1.89203854],\n",
       "       [2.63619172],\n",
       "       [2.58397757],\n",
       "       [2.70959475],\n",
       "       [2.05256958],\n",
       "       [2.60207542],\n",
       "       [2.16992956],\n",
       "       [2.2630606 ],\n",
       "       [2.30293485],\n",
       "       [1.48657733],\n",
       "       [1.85545601],\n",
       "       [2.93450174],\n",
       "       [3.52294463],\n",
       "       [1.1546707 ],\n",
       "       [2.65850174],\n",
       "       [2.36216714],\n",
       "       [3.09071435],\n",
       "       [2.06669157],\n",
       "       [1.56637173],\n",
       "       [2.95748423],\n",
       "       [2.61881109],\n",
       "       [1.75533564],\n",
       "       [2.48127097],\n",
       "       [2.07142367],\n",
       "       [2.56887979],\n",
       "       [3.38203973],\n",
       "       [2.87921673],\n",
       "       [2.99530705],\n",
       "       [2.94350096],\n",
       "       [2.88030052],\n",
       "       [2.06523337],\n",
       "       [3.15794696],\n",
       "       [2.26964843],\n",
       "       [2.29567461],\n",
       "       [2.2617114 ],\n",
       "       [3.04549573],\n",
       "       [1.87225539],\n",
       "       [2.57549921],\n",
       "       [1.90670808],\n",
       "       [2.0783332 ],\n",
       "       [2.28892272],\n",
       "       [2.70893099],\n",
       "       [2.27126473],\n",
       "       [1.50192649],\n",
       "       [1.74425381],\n",
       "       [2.7339301 ],\n",
       "       [3.33787642],\n",
       "       [2.20397047],\n",
       "       [1.99623552],\n",
       "       [1.94947912],\n",
       "       [1.80405054],\n",
       "       [2.16040836],\n",
       "       [2.37675766],\n",
       "       [3.22701247],\n",
       "       [2.16299031],\n",
       "       [1.43300246],\n",
       "       [2.24990208],\n",
       "       [2.04360831],\n",
       "       [2.27333471],\n",
       "       [1.98852227],\n",
       "       [2.80962362],\n",
       "       [2.73239137]])"
      ]
     },
     "execution_count": 21,
     "metadata": {},
     "output_type": "execute_result"
    }
   ],
   "source": [
    "#predict values for test set\n",
    "pred_bl = lr_baseline_model.predict(test_new)\n",
    "pred_bl"
   ]
  },
  {
   "cell_type": "code",
   "execution_count": 22,
   "metadata": {},
   "outputs": [],
   "source": [
    "res = pd.DataFrame(pred_bl)\n",
    "#res.index = test.index # its important for comparison\n",
    "res.columns = [\"prediction\"]\n",
    "res.to_csv(\"prediction_results_Invertebrate.csv\") "
   ]
  },
  {
   "cell_type": "markdown",
   "metadata": {},
   "source": [
    "# Let's apply some feature selection techniques on the dataset"
   ]
  },
  {
   "cell_type": "markdown",
   "metadata": {},
   "source": [
    "# 1. Applying RFE"
   ]
  },
  {
   "cell_type": "code",
   "execution_count": 26,
   "metadata": {},
   "outputs": [
    {
     "name": "stdout",
     "output_type": "stream",
     "text": [
      "Num Features: 2\n",
      "Selected Features: [ True False False  True False]\n",
      "Feature Ranking: [1 2 4 1 3]\n"
     ]
    },
    {
     "name": "stderr",
     "output_type": "stream",
     "text": [
      "c:\\users\\csuftitan\\appdata\\local\\programs\\python\\python37\\lib\\site-packages\\sklearn\\utils\\validation.py:760: DataConversionWarning: A column-vector y was passed when a 1d array was expected. Please change the shape of y to (n_samples, ), for example using ravel().\n",
      "  y = column_or_1d(y, warn=True)\n"
     ]
    }
   ],
   "source": [
    "from sklearn.feature_selection import RFE #importing RFE class from sklearn library\n",
    "\n",
    "rfe = RFE(estimator= lr_baseline_model , step = 1) \n",
    "# estimator clf_lr is the baseline model (basic model) that we have created under \"Base line Model\" selection\n",
    "# step = 1: removes one feature at a time and then builds a model on the remaining features\n",
    "# It uses the model accuracy to identify which features (and combination of features) contribute the most to predicting the target variable.\n",
    "# we can even provide no. of features as an argument \n",
    "\n",
    "# Fit the function for ranking the features\n",
    "fit = rfe.fit(X_train, y_train)\n",
    "\n",
    "print(\"Num Features: %d\" % fit.n_features_)\n",
    "print(\"Selected Features: %s\" % fit.support_)\n",
    "print(\"Feature Ranking: %s\" % fit.ranking_)"
   ]
  },
  {
   "cell_type": "code",
   "execution_count": 27,
   "metadata": {},
   "outputs": [
    {
     "data": {
      "text/html": [
       "<div>\n",
       "<style scoped>\n",
       "    .dataframe tbody tr th:only-of-type {\n",
       "        vertical-align: middle;\n",
       "    }\n",
       "\n",
       "    .dataframe tbody tr th {\n",
       "        vertical-align: top;\n",
       "    }\n",
       "\n",
       "    .dataframe thead th {\n",
       "        text-align: right;\n",
       "    }\n",
       "</style>\n",
       "<table border=\"1\" class=\"dataframe\">\n",
       "  <thead>\n",
       "    <tr style=\"text-align: right;\">\n",
       "      <th></th>\n",
       "      <th>Feature</th>\n",
       "      <th>Ranking</th>\n",
       "    </tr>\n",
       "  </thead>\n",
       "  <tbody>\n",
       "    <tr>\n",
       "      <th>0</th>\n",
       "      <td>SWF</td>\n",
       "      <td>1</td>\n",
       "    </tr>\n",
       "    <tr>\n",
       "      <th>3</th>\n",
       "      <td>management</td>\n",
       "      <td>1</td>\n",
       "    </tr>\n",
       "    <tr>\n",
       "      <th>1</th>\n",
       "      <td>temperature</td>\n",
       "      <td>2</td>\n",
       "    </tr>\n",
       "    <tr>\n",
       "      <th>4</th>\n",
       "      <td>duration</td>\n",
       "      <td>3</td>\n",
       "    </tr>\n",
       "    <tr>\n",
       "      <th>2</th>\n",
       "      <td>size</td>\n",
       "      <td>4</td>\n",
       "    </tr>\n",
       "  </tbody>\n",
       "</table>\n",
       "</div>"
      ],
      "text/plain": [
       "       Feature  Ranking\n",
       "0          SWF        1\n",
       "3   management        1\n",
       "1  temperature        2\n",
       "4     duration        3\n",
       "2         size        4"
      ]
     },
     "execution_count": 27,
     "metadata": {},
     "output_type": "execute_result"
    }
   ],
   "source": [
    "selected_rfe_features = pd.DataFrame({'Feature':list(X_train.columns),\n",
    "                                      'Ranking':rfe.ranking_})\n",
    "selected_rfe_features.sort_values(by='Ranking')"
   ]
  },
  {
   "cell_type": "code",
   "execution_count": 29,
   "metadata": {},
   "outputs": [],
   "source": [
    "# Transforming the data\n",
    "X_train_rfe = rfe.transform(X_train)\n",
    "X_test_rfe = rfe.transform(X_test)\n",
    "\n",
    "# Fitting our baseline model with the transformed data\n",
    "lr_rfe_model = lr_baseline_model.fit(X_train_rfe, y_train)"
   ]
  },
  {
   "cell_type": "code",
   "execution_count": 30,
   "metadata": {},
   "outputs": [],
   "source": [
    "\n",
    "# making predictions and evaluating the model\n",
    "y_pred_rfe = lr_rfe_model.predict(X_test_rfe)"
   ]
  },
  {
   "cell_type": "code",
   "execution_count": 31,
   "metadata": {},
   "outputs": [
    {
     "name": "stdout",
     "output_type": "stream",
     "text": [
      "0.3017029318302879\n",
      "0.1253235783670183\n",
      "0.35401070374639565\n"
     ]
    }
   ],
   "source": [
    "# Noting down accuracy of the baseline model\n",
    "# import metrics library\n",
    "from sklearn import metrics\n",
    "\n",
    "# print result of MAE\n",
    "print(metrics.mean_absolute_error(y_test, y_pred_rfe))\n",
    "\n",
    "#print result of MSE\n",
    "print(metrics.mean_squared_error(y_test, y_pred_rfe))\n",
    "\n",
    "#print result of RMSE\n",
    "print(np.sqrt(metrics.mean_squared_error(y_test, y_pred_rfe)))"
   ]
  },
  {
   "cell_type": "markdown",
   "metadata": {},
   "source": [
    "# 2. Applying feature  importance using xgboost"
   ]
  },
  {
   "cell_type": "code",
   "execution_count": 34,
   "metadata": {},
   "outputs": [
    {
     "name": "stdout",
     "output_type": "stream",
     "text": [
      "Collecting xgboost\n",
      "  Downloading xgboost-1.1.1-py3-none-win_amd64.whl (54.4 MB)\n",
      "Requirement already satisfied: numpy in c:\\users\\csuftitan\\appdata\\local\\programs\\python\\python37\\lib\\site-packages (from xgboost) (1.18.3)\n",
      "Requirement already satisfied: scipy in c:\\users\\csuftitan\\appdata\\local\\programs\\python\\python37\\lib\\site-packages (from xgboost) (1.4.1)\n",
      "Installing collected packages: xgboost\n",
      "Successfully installed xgboost-1.1.1\n"
     ]
    },
    {
     "name": "stderr",
     "output_type": "stream",
     "text": [
      "WARNING: You are using pip version 20.0.2; however, version 20.1.1 is available.\n",
      "You should consider upgrading via the 'c:\\users\\csuftitan\\appdata\\local\\programs\\python\\python37\\python.exe -m pip install --upgrade pip' command.\n",
      "c:\\users\\csuftitan\\appdata\\local\\programs\\python\\python37\\lib\\site-packages\\sklearn\\preprocessing\\_label.py:235: DataConversionWarning: A column-vector y was passed when a 1d array was expected. Please change the shape of y to (n_samples, ), for example using ravel().\n",
      "  y = column_or_1d(y, warn=True)\n",
      "c:\\users\\csuftitan\\appdata\\local\\programs\\python\\python37\\lib\\site-packages\\sklearn\\preprocessing\\_label.py:268: DataConversionWarning: A column-vector y was passed when a 1d array was expected. Please change the shape of y to (n_samples, ), for example using ravel().\n",
      "  y = column_or_1d(y, warn=True)\n"
     ]
    },
    {
     "name": "stdout",
     "output_type": "stream",
     "text": [
      "Feature Importances :  [0.21043688 0.19353174 0.16687407 0.22549774 0.20365962]\n"
     ]
    },
    {
     "data": {
      "image/png": "[encoded data removed]",
      "text/plain": [
       "<Figure size 576x396 with 1 Axes>"
      ]
     },
     "metadata": {},
     "output_type": "display_data"
    }
   ],
   "source": [
    "!pip install xgboost\n",
    "\n",
    "from xgboost import XGBClassifier\n",
    "from xgboost import plot_importance\n",
    "\n",
    "# fit model to training data\n",
    "xgb_model = XGBClassifier(random_state = 0 )\n",
    "xgb_model.fit(X_train, y_train)\n",
    "\n",
    "print(\"Feature Importances : \", xgb_model.feature_importances_)\n",
    "\n",
    "# plot feature importance\n",
    "plot_importance(xgb_model)\n",
    "plt.show()"
   ]
  },
  {
   "cell_type": "code",
   "execution_count": 171,
   "metadata": {},
   "outputs": [],
   "source": [
    "# Splitting data into Input and Target Variable\n",
    "\n",
    "y = df[['SWI']]  # target variable i.e SWI\n",
    "X = df.drop(['SWI', 'size'], axis=1)  # input variables"
   ]
  },
  {
   "cell_type": "code",
   "execution_count": 172,
   "metadata": {},
   "outputs": [
    {
     "data": {
      "text/plain": [
       "<matplotlib.axes._subplots.AxesSubplot at 0x218d9bc6c88>"
      ]
     },
     "execution_count": 172,
     "metadata": {},
     "output_type": "execute_result"
    },
    {
     "data": {
      "image/png": "[encoded data removed]",
      "text/plain": [
       "<Figure size 720x432 with 2 Axes>"
      ]
     },
     "metadata": {},
     "output_type": "display_data"
    }
   ],
   "source": [
    "#draw a heatmap based on correlation values\n",
    "fig, ax = plt.subplots(figsize=(10,6))  \n",
    "sns.heatmap(corr, annot = True, cmap=\"RdYlGn\")"
   ]
  },
  {
   "cell_type": "code",
   "execution_count": 173,
   "metadata": {},
   "outputs": [],
   "source": [
    "# Split into train and test sets\n",
    "from sklearn.model_selection import train_test_split\n",
    "\n",
    "X_train, X_test, y_train, y_test = train_test_split(X, y, \n",
    "                                                    test_size=0.1, \n",
    "                                                    random_state=2)"
   ]
  },
  {
   "cell_type": "code",
   "execution_count": 174,
   "metadata": {},
   "outputs": [],
   "source": [
    "\n",
    "# Building the Linear Regression model\n",
    "from sklearn.linear_model import LinearRegression\n",
    "\n",
    "lr = LinearRegression()      \n",
    "lr_modified_model = lr.fit(X_train,y_train)"
   ]
  },
  {
   "cell_type": "code",
   "execution_count": 175,
   "metadata": {},
   "outputs": [
    {
     "data": {
      "text/plain": [
       "array([[1.67155047],\n",
       "       [0.83263865],\n",
       "       [2.29084226],\n",
       "       [1.60022291],\n",
       "       [1.8656446 ],\n",
       "       [2.12496849],\n",
       "       [1.51965876],\n",
       "       [1.87497125],\n",
       "       [1.74175391],\n",
       "       [1.8948272 ],\n",
       "       [2.25312016],\n",
       "       [1.59820489],\n",
       "       [2.01121187],\n",
       "       [1.59010436],\n",
       "       [2.11333855],\n",
       "       [1.76218667],\n",
       "       [1.63219098],\n",
       "       [2.10763296],\n",
       "       [2.64309283],\n",
       "       [2.68220134],\n",
       "       [1.83255041],\n",
       "       [1.18883193],\n",
       "       [1.98647236],\n",
       "       [2.20395122],\n",
       "       [1.06993919],\n",
       "       [1.27899883],\n",
       "       [2.38759597],\n",
       "       [1.49865516]])"
      ]
     },
     "execution_count": 175,
     "metadata": {},
     "output_type": "execute_result"
    }
   ],
   "source": [
    "#predict values for test set\n",
    "y_pred = lr_modified_model.predict(X_test)\n",
    "y_pred"
   ]
  },
  {
   "cell_type": "code",
   "execution_count": 176,
   "metadata": {},
   "outputs": [
    {
     "name": "stdout",
     "output_type": "stream",
     "text": [
      "0.2256153453661347\n",
      "0.07350861181551413\n",
      "0.2711247163493475\n"
     ]
    }
   ],
   "source": [
    "# Noting down accuracy of the baseline model\n",
    "# import metrics library\n",
    "from sklearn import metrics\n",
    "\n",
    "# print result of MAE\n",
    "print(metrics.mean_absolute_error(y_test, y_pred))\n",
    "\n",
    "#print result of MSE\n",
    "print(metrics.mean_squared_error(y_test, y_pred))\n",
    "\n",
    "#print result of RMSE\n",
    "print(np.sqrt(metrics.mean_squared_error(y_test, y_pred)))"
   ]
  },
  {
   "cell_type": "code",
   "execution_count": 177,
   "metadata": {},
   "outputs": [],
   "source": [
    "#unseen test data\n",
    "test_new = pd.read_csv('https://raw.githubusercontent.com/dphi-official/Datasets/master/Invertebrate/Invertebrate_new_test_data.csv')\n"
   ]
  },
  {
   "cell_type": "code",
   "execution_count": 179,
   "metadata": {},
   "outputs": [
    {
     "data": {
      "text/plain": [
       "array([[1.6095355 ],\n",
       "       [1.96914578],\n",
       "       [2.39013856],\n",
       "       [2.68955624],\n",
       "       [1.75982303],\n",
       "       [3.19748338],\n",
       "       [2.41326163],\n",
       "       [2.3030655 ],\n",
       "       [1.95352813],\n",
       "       [1.96118287],\n",
       "       [2.4326386 ],\n",
       "       [2.20619756],\n",
       "       [1.87067315],\n",
       "       [2.97236031],\n",
       "       [1.71894152],\n",
       "       [2.08348846],\n",
       "       [2.37734949],\n",
       "       [1.91397522],\n",
       "       [1.92690812],\n",
       "       [1.98384719],\n",
       "       [2.79803218],\n",
       "       [1.76082092],\n",
       "       [2.58556077],\n",
       "       [2.26337454],\n",
       "       [2.8768097 ],\n",
       "       [2.37004991],\n",
       "       [1.74586724],\n",
       "       [2.01582507],\n",
       "       [3.10799409],\n",
       "       [1.6104079 ],\n",
       "       [2.274306  ],\n",
       "       [2.0307586 ],\n",
       "       [2.9094195 ],\n",
       "       [2.79546598],\n",
       "       [1.76019204],\n",
       "       [2.85473976],\n",
       "       [2.87232808],\n",
       "       [2.46824902],\n",
       "       [1.73876289],\n",
       "       [1.78645315],\n",
       "       [1.5810152 ],\n",
       "       [2.59506005],\n",
       "       [2.88733828],\n",
       "       [2.86764125],\n",
       "       [2.23156496],\n",
       "       [2.74193281],\n",
       "       [1.67481291],\n",
       "       [2.10635991],\n",
       "       [2.72041571],\n",
       "       [3.03772053],\n",
       "       [1.77718419],\n",
       "       [2.77926278],\n",
       "       [2.71985096],\n",
       "       [2.5066935 ],\n",
       "       [2.24460515],\n",
       "       [1.77090266],\n",
       "       [2.3659254 ],\n",
       "       [1.36927557],\n",
       "       [1.90760393],\n",
       "       [2.64459548],\n",
       "       [2.59709852],\n",
       "       [2.70636521],\n",
       "       [2.05400666],\n",
       "       [2.58097813],\n",
       "       [2.16374338],\n",
       "       [2.25231642],\n",
       "       [2.27656289],\n",
       "       [1.46486257],\n",
       "       [1.85149201],\n",
       "       [2.90370156],\n",
       "       [3.53941315],\n",
       "       [1.13620087],\n",
       "       [2.6582281 ],\n",
       "       [2.36406779],\n",
       "       [3.08508698],\n",
       "       [2.08872582],\n",
       "       [1.56695711],\n",
       "       [2.96087853],\n",
       "       [2.66034874],\n",
       "       [1.76362884],\n",
       "       [2.4676177 ],\n",
       "       [2.06711464],\n",
       "       [2.56596548],\n",
       "       [3.38874658],\n",
       "       [2.86796321],\n",
       "       [2.9948063 ],\n",
       "       [2.9404033 ],\n",
       "       [2.88212613],\n",
       "       [2.05546023],\n",
       "       [3.1515693 ],\n",
       "       [2.29067939],\n",
       "       [2.30132156],\n",
       "       [2.25749532],\n",
       "       [3.02820749],\n",
       "       [1.86505503],\n",
       "       [2.55432362],\n",
       "       [1.89479292],\n",
       "       [2.10351821],\n",
       "       [2.28456038],\n",
       "       [2.71564796],\n",
       "       [2.27726145],\n",
       "       [1.49079229],\n",
       "       [1.73632163],\n",
       "       [2.72664595],\n",
       "       [3.34201907],\n",
       "       [2.19545832],\n",
       "       [1.99931316],\n",
       "       [1.94196607],\n",
       "       [1.79758926],\n",
       "       [2.1484446 ],\n",
       "       [2.34507236],\n",
       "       [3.19766673],\n",
       "       [2.16604484],\n",
       "       [1.39486263],\n",
       "       [2.22990443],\n",
       "       [2.01340952],\n",
       "       [2.24650497],\n",
       "       [1.97285692],\n",
       "       [2.7897951 ],\n",
       "       [2.72050495]])"
      ]
     },
     "execution_count": 179,
     "metadata": {},
     "output_type": "execute_result"
    }
   ],
   "source": [
    "#predict values for test set\n",
    "test_new_n = test_new.drop(['size'], axis=1)\n",
    "pred_bl = lr_modified_model.predict(test_new_n)\n",
    "pred_bl"
   ]
  },
  {
   "cell_type": "code",
   "execution_count": 180,
   "metadata": {},
   "outputs": [],
   "source": [
    "res = pd.DataFrame(pred_bl)\n",
    "#res.index = test.index # its important for comparison\n",
    "res.columns = [\"prediction\"]\n",
    "res.to_csv(\"prediction_results_Invertebrate5.csv\") "
   ]
  },
  {
   "cell_type": "code",
   "execution_count": null,
   "metadata": {},
   "outputs": [],
   "source": []
  }
 ],
 "metadata": {
  "kernelspec": {
   "display_name": "Python 3",
   "language": "python",
   "name": "python3"
  },
  "language_info": {
   "codemirror_mode": {
    "name": "ipython",
    "version": 3
   },
   "file_extension": ".py",
   "mimetype": "text/x-python",
   "name": "python",
   "nbconvert_exporter": "python",
   "pygments_lexer": "ipython3",
   "version": "3.7.6"
  }
 },
 "nbformat": 4,
 "nbformat_minor": 4
}
