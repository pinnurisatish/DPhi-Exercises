{
 "cells": [
  {
   "cell_type": "code",
   "execution_count": 1,
   "metadata": {
    "colab": {},
    "colab_type": "code",
    "executionInfo": {
     "elapsed": 3249,
     "status": "ok",
     "timestamp": 1592538678150,
     "user": {
      "displayName": "KATLA NEHA",
      "photoUrl": "",
      "userId": "07378799494353358546"
     },
     "user_tz": -330
    },
    "id": "mdKfmBA7pomd"
   },
   "outputs": [],
   "source": [
    "import pandas as pd\n",
    "import numpy as np\n",
    "import matplotlib.pyplot as plt"
   ]
  },
  {
   "cell_type": "code",
   "execution_count": 2,
   "metadata": {
    "colab": {},
    "colab_type": "code",
    "executionInfo": {
     "elapsed": 1945,
     "status": "ok",
     "timestamp": 1592538701752,
     "user": {
      "displayName": "KATLA NEHA",
      "photoUrl": "",
      "userId": "07378799494353358546"
     },
     "user_tz": -330
    },
    "id": "ai9CLwwms3g5"
   },
   "outputs": [],
   "source": [
    "train = pd.read_csv('https://raw.githubusercontent.com/dphi-official/Datasets/master/liver_patient_data/indian_liver_patient_train.csv')\n",
    "test = pd.read_csv('https://raw.githubusercontent.com/dphi-official/Datasets/master/liver_patient_data/indian_liver_patient_test.csv')"
   ]
  },
  {
   "cell_type": "markdown",
   "metadata": {
    "colab_type": "text",
    "id": "0yrt0ERctXOm"
   },
   "source": [
    "Train data set has 12 columns, 500 entries\n",
    "\n",
    "1.  Unnamed: 0\n",
    "2.  Age\n",
    "3.  Gender\n",
    "4.  Total_Bilirubin\n",
    "5.  Direct_Bilirubin\n",
    "6.  Alkaline_Phosphotase\n",
    "7.  Alamine_Aminotransferase\n",
    "8.  Aspartate_Aminotransferase\n",
    "9.  Total_Proteins\n",
    "10. Albumin\n",
    "11. Albumin_and_Globulin_Ratio- has 4 null values\n",
    "12. Dataset\n"
   ]
  },
  {
   "cell_type": "code",
   "execution_count": 6,
   "metadata": {
    "colab": {
     "base_uri": "https://localhost:8080/",
     "height": 319
    },
    "colab_type": "code",
    "executionInfo": {
     "elapsed": 1104,
     "status": "ok",
     "timestamp": 1592539207721,
     "user": {
      "displayName": "KATLA NEHA",
      "photoUrl": "",
      "userId": "07378799494353358546"
     },
     "user_tz": -330
    },
    "id": "V-3V-hFNtVmJ",
    "outputId": "a5a472e7-89ee-4347-c322-9b75c86abb32"
   },
   "outputs": [
    {
     "name": "stdout",
     "output_type": "stream",
     "text": [
      "<class 'pandas.core.frame.DataFrame'>\n",
      "RangeIndex: 82 entries, 0 to 81\n",
      "Data columns (total 11 columns):\n",
      " #   Column                      Non-Null Count  Dtype  \n",
      "---  ------                      --------------  -----  \n",
      " 0   Unnamed: 0                  82 non-null     int64  \n",
      " 1   Age                         82 non-null     int64  \n",
      " 2   Gender                      82 non-null     object \n",
      " 3   Total_Bilirubin             82 non-null     float64\n",
      " 4   Direct_Bilirubin            82 non-null     float64\n",
      " 5   Alkaline_Phosphotase        82 non-null     int64  \n",
      " 6   Alamine_Aminotransferase    82 non-null     int64  \n",
      " 7   Aspartate_Aminotransferase  82 non-null     int64  \n",
      " 8   Total_Protiens              82 non-null     float64\n",
      " 9   Albumin                     82 non-null     float64\n",
      " 10  Albumin_and_Globulin_Ratio  82 non-null     float64\n",
      "dtypes: float64(5), int64(5), object(1)\n",
      "memory usage: 7.2+ KB\n"
     ]
    }
   ],
   "source": [
    "test.info()"
   ]
  },
  {
   "cell_type": "markdown",
   "metadata": {
    "colab_type": "text",
    "id": "bvkBEA1xu_Ua"
   },
   "source": [
    "Test data has 11 columns, 82 entries.\n",
    "All columns except the dataset column."
   ]
  },
  {
   "cell_type": "code",
   "execution_count": 10,
   "metadata": {
    "colab": {
     "base_uri": "https://localhost:8080/",
     "height": 232
    },
    "colab_type": "code",
    "executionInfo": {
     "elapsed": 582,
     "status": "ok",
     "timestamp": 1592539453811,
     "user": {
      "displayName": "KATLA NEHA",
      "photoUrl": "",
      "userId": "07378799494353358546"
     },
     "user_tz": -330
    },
    "id": "4kGe4Sasv2mC",
    "outputId": "efc0e206-f0cd-4805-d0c8-a98cc470261a"
   },
   "outputs": [
    {
     "data": {
      "text/html": [
       "<div>\n",
       "<style scoped>\n",
       "    .dataframe tbody tr th:only-of-type {\n",
       "        vertical-align: middle;\n",
       "    }\n",
       "\n",
       "    .dataframe tbody tr th {\n",
       "        vertical-align: top;\n",
       "    }\n",
       "\n",
       "    .dataframe thead th {\n",
       "        text-align: right;\n",
       "    }\n",
       "</style>\n",
       "<table border=\"1\" class=\"dataframe\">\n",
       "  <thead>\n",
       "    <tr style=\"text-align: right;\">\n",
       "      <th></th>\n",
       "      <th>Unnamed: 0</th>\n",
       "      <th>Age</th>\n",
       "      <th>Gender</th>\n",
       "      <th>Total_Bilirubin</th>\n",
       "      <th>Direct_Bilirubin</th>\n",
       "      <th>Alkaline_Phosphotase</th>\n",
       "      <th>Alamine_Aminotransferase</th>\n",
       "      <th>Aspartate_Aminotransferase</th>\n",
       "      <th>Total_Protiens</th>\n",
       "      <th>Albumin</th>\n",
       "      <th>Albumin_and_Globulin_Ratio</th>\n",
       "      <th>Dataset</th>\n",
       "    </tr>\n",
       "  </thead>\n",
       "  <tbody>\n",
       "    <tr>\n",
       "      <th>0</th>\n",
       "      <td>0</td>\n",
       "      <td>65</td>\n",
       "      <td>Female</td>\n",
       "      <td>0.7</td>\n",
       "      <td>0.1</td>\n",
       "      <td>187</td>\n",
       "      <td>16</td>\n",
       "      <td>18</td>\n",
       "      <td>6.8</td>\n",
       "      <td>3.3</td>\n",
       "      <td>0.90</td>\n",
       "      <td>1</td>\n",
       "    </tr>\n",
       "    <tr>\n",
       "      <th>1</th>\n",
       "      <td>1</td>\n",
       "      <td>62</td>\n",
       "      <td>Male</td>\n",
       "      <td>10.9</td>\n",
       "      <td>5.5</td>\n",
       "      <td>699</td>\n",
       "      <td>64</td>\n",
       "      <td>100</td>\n",
       "      <td>7.5</td>\n",
       "      <td>3.2</td>\n",
       "      <td>0.74</td>\n",
       "      <td>1</td>\n",
       "    </tr>\n",
       "    <tr>\n",
       "      <th>2</th>\n",
       "      <td>2</td>\n",
       "      <td>62</td>\n",
       "      <td>Male</td>\n",
       "      <td>7.3</td>\n",
       "      <td>4.1</td>\n",
       "      <td>490</td>\n",
       "      <td>60</td>\n",
       "      <td>68</td>\n",
       "      <td>7.0</td>\n",
       "      <td>3.3</td>\n",
       "      <td>0.89</td>\n",
       "      <td>1</td>\n",
       "    </tr>\n",
       "    <tr>\n",
       "      <th>3</th>\n",
       "      <td>3</td>\n",
       "      <td>58</td>\n",
       "      <td>Male</td>\n",
       "      <td>1.0</td>\n",
       "      <td>0.4</td>\n",
       "      <td>182</td>\n",
       "      <td>14</td>\n",
       "      <td>20</td>\n",
       "      <td>6.8</td>\n",
       "      <td>3.4</td>\n",
       "      <td>1.00</td>\n",
       "      <td>1</td>\n",
       "    </tr>\n",
       "    <tr>\n",
       "      <th>4</th>\n",
       "      <td>4</td>\n",
       "      <td>72</td>\n",
       "      <td>Male</td>\n",
       "      <td>3.9</td>\n",
       "      <td>2.0</td>\n",
       "      <td>195</td>\n",
       "      <td>27</td>\n",
       "      <td>59</td>\n",
       "      <td>7.3</td>\n",
       "      <td>2.4</td>\n",
       "      <td>0.40</td>\n",
       "      <td>1</td>\n",
       "    </tr>\n",
       "  </tbody>\n",
       "</table>\n",
       "</div>"
      ],
      "text/plain": [
       "   Unnamed: 0  Age  Gender  ...  Albumin  Albumin_and_Globulin_Ratio  Dataset\n",
       "0           0   65  Female  ...      3.3                        0.90        1\n",
       "1           1   62    Male  ...      3.2                        0.74        1\n",
       "2           2   62    Male  ...      3.3                        0.89        1\n",
       "3           3   58    Male  ...      3.4                        1.00        1\n",
       "4           4   72    Male  ...      2.4                        0.40        1\n",
       "\n",
       "[5 rows x 12 columns]"
      ]
     },
     "execution_count": 10,
     "metadata": {
      "tags": []
     },
     "output_type": "execute_result"
    }
   ],
   "source": [
    "train.head()"
   ]
  },
  {
   "cell_type": "code",
   "execution_count": 12,
   "metadata": {
    "colab": {
     "base_uri": "https://localhost:8080/",
     "height": 353
    },
    "colab_type": "code",
    "executionInfo": {
     "elapsed": 1062,
     "status": "ok",
     "timestamp": 1592539504465,
     "user": {
      "displayName": "KATLA NEHA",
      "photoUrl": "",
      "userId": "07378799494353358546"
     },
     "user_tz": -330
    },
    "id": "FoaPM01BvLi-",
    "outputId": "ceb5a9d7-1ea3-4f6e-df00-c36c18ebda62"
   },
   "outputs": [
    {
     "name": "stderr",
     "output_type": "stream",
     "text": [
      "/usr/local/lib/python3.6/dist-packages/ipykernel_launcher.py:1: SettingWithCopyWarning: \n",
      "A value is trying to be set on a copy of a slice from a DataFrame\n",
      "\n",
      "See the caveats in the documentation: https://pandas.pydata.org/pandas-docs/stable/user_guide/indexing.html#returning-a-view-versus-a-copy\n",
      "  \"\"\"Entry point for launching an IPython kernel.\n",
      "/usr/local/lib/python3.6/dist-packages/ipykernel_launcher.py:2: SettingWithCopyWarning: \n",
      "A value is trying to be set on a copy of a slice from a DataFrame\n",
      "\n",
      "See the caveats in the documentation: https://pandas.pydata.org/pandas-docs/stable/user_guide/indexing.html#returning-a-view-versus-a-copy\n",
      "  \n",
      "/usr/local/lib/python3.6/dist-packages/ipykernel_launcher.py:3: SettingWithCopyWarning: \n",
      "A value is trying to be set on a copy of a slice from a DataFrame\n",
      "\n",
      "See the caveats in the documentation: https://pandas.pydata.org/pandas-docs/stable/user_guide/indexing.html#returning-a-view-versus-a-copy\n",
      "  This is separate from the ipykernel package so we can avoid doing imports until\n",
      "/usr/local/lib/python3.6/dist-packages/ipykernel_launcher.py:4: SettingWithCopyWarning: \n",
      "A value is trying to be set on a copy of a slice from a DataFrame\n",
      "\n",
      "See the caveats in the documentation: https://pandas.pydata.org/pandas-docs/stable/user_guide/indexing.html#returning-a-view-versus-a-copy\n",
      "  after removing the cwd from sys.path.\n"
     ]
    }
   ],
   "source": [
    "train.Gender[train.Gender == 'Male'] = 0\n",
    "train.Gender[train.Gender == 'Female'] = 1\n",
    "test.Gender[test.Gender == 'Male'] = 0\n",
    "test.Gender[test.Gender == 'Female'] = 1"
   ]
  },
  {
   "cell_type": "code",
   "execution_count": 20,
   "metadata": {
    "colab": {
     "base_uri": "https://localhost:8080/",
     "height": 235
    },
    "colab_type": "code",
    "executionInfo": {
     "elapsed": 1033,
     "status": "ok",
     "timestamp": 1592540294260,
     "user": {
      "displayName": "KATLA NEHA",
      "photoUrl": "",
      "userId": "07378799494353358546"
     },
     "user_tz": -330
    },
    "id": "QY8pLFUJyRJy",
    "outputId": "15d622af-3e55-4b6d-e3e0-64c1a51ec046"
   },
   "outputs": [
    {
     "data": {
      "text/plain": [
       "Unnamed: 0                    0\n",
       "Age                           0\n",
       "Gender                        0\n",
       "Total_Bilirubin               0\n",
       "Direct_Bilirubin              0\n",
       "Alkaline_Phosphotase          0\n",
       "Alamine_Aminotransferase      0\n",
       "Aspartate_Aminotransferase    0\n",
       "Total_Protiens                0\n",
       "Albumin                       0\n",
       "Albumin_and_Globulin_Ratio    0\n",
       "Dataset                       0\n",
       "dtype: int64"
      ]
     },
     "execution_count": 20,
     "metadata": {
      "tags": []
     },
     "output_type": "execute_result"
    }
   ],
   "source": [
    "train['Albumin_and_Globulin_Ratio'] = train['Albumin_and_Globulin_Ratio'].fillna(train['Albumin_and_Globulin_Ratio'].mean())\n",
    "train.isnull().sum()"
   ]
  },
  {
   "cell_type": "code",
   "execution_count": 16,
   "metadata": {
    "colab": {
     "base_uri": "https://localhost:8080/",
     "height": 70
    },
    "colab_type": "code",
    "executionInfo": {
     "elapsed": 1057,
     "status": "ok",
     "timestamp": 1592540043367,
     "user": {
      "displayName": "KATLA NEHA",
      "photoUrl": "",
      "userId": "07378799494353358546"
     },
     "user_tz": -330
    },
    "id": "fxO-FITov-bN",
    "outputId": "0b46eecf-60ce-4d4b-e367-e12ef153cedc"
   },
   "outputs": [
    {
     "name": "stderr",
     "output_type": "stream",
     "text": [
      "/usr/local/lib/python3.6/dist-packages/statsmodels/tools/_testing.py:19: FutureWarning: pandas.util.testing is deprecated. Use the functions in the public API at pandas.testing instead.\n",
      "  import pandas.util.testing as tm\n"
     ]
    }
   ],
   "source": [
    "# first import data visualizations libraries\n",
    "import matplotlib.pyplot as plt\n",
    "import seaborn as sns\n",
    "\n",
    "# To ignore warnings\n",
    "import warnings\n",
    "warnings.filterwarnings('ignore')"
   ]
  },
  {
   "cell_type": "code",
   "execution_count": 21,
   "metadata": {
    "colab": {
     "base_uri": "https://localhost:8080/",
     "height": 716
    },
    "colab_type": "code",
    "executionInfo": {
     "elapsed": 2892,
     "status": "ok",
     "timestamp": 1592540303846,
     "user": {
      "displayName": "KATLA NEHA",
      "photoUrl": "",
      "userId": "07378799494353358546"
     },
     "user_tz": -330
    },
    "id": "frEB3cOVwQzK",
    "outputId": "b15c5d64-e68b-46b1-983f-bec64fe6a945"
   },
   "outputs": [
    {
     "data": {
      "image/png": "[encoded data removed]",
      "text/plain": [
       "<Figure size 1152x864 with 12 Axes>"
      ]
     },
     "metadata": {
      "needs_background": "light",
      "tags": []
     },
     "output_type": "display_data"
    }
   ],
   "source": [
    "train.hist(bins=10, figsize=(16,12))\n",
    "plt.show()"
   ]
  },
  {
   "cell_type": "code",
   "execution_count": 23,
   "metadata": {
    "colab": {
     "base_uri": "https://localhost:8080/",
     "height": 716
    },
    "colab_type": "code",
    "executionInfo": {
     "elapsed": 2797,
     "status": "ok",
     "timestamp": 1592540446741,
     "user": {
      "displayName": "KATLA NEHA",
      "photoUrl": "",
      "userId": "07378799494353358546"
     },
     "user_tz": -330
    },
    "id": "mEFTGNOLyMWO",
    "outputId": "a35e7ed5-2c0c-42f7-9e27-e15396d1f88e"
   },
   "outputs": [
    {
     "data": {
      "image/png": "[encoded data removed]",
      "text/plain": [
       "<Figure size 1152x864 with 12 Axes>"
      ]
     },
     "metadata": {
      "needs_background": "light",
      "tags": []
     },
     "output_type": "display_data"
    }
   ],
   "source": [
    "test.hist(bins=10, figsize=(16,12))\n",
    "plt.show()"
   ]
  },
  {
   "cell_type": "code",
   "execution_count": 29,
   "metadata": {
    "colab": {},
    "colab_type": "code",
    "executionInfo": {
     "elapsed": 1115,
     "status": "ok",
     "timestamp": 1592541208251,
     "user": {
      "displayName": "KATLA NEHA",
      "photoUrl": "",
      "userId": "07378799494353358546"
     },
     "user_tz": -330
    },
    "id": "hOQ8tMCVzpLV"
   },
   "outputs": [],
   "source": [
    "X_train = train.iloc[:, 1:-1].values\n",
    "y_train = train.iloc[:, -1].values\n",
    "X_test = test.iloc[:, 1:].values"
   ]
  },
  {
   "cell_type": "code",
   "execution_count": 31,
   "metadata": {
    "colab": {
     "base_uri": "https://localhost:8080/",
     "height": 101
    },
    "colab_type": "code",
    "executionInfo": {
     "elapsed": 1294,
     "status": "ok",
     "timestamp": 1592541255244,
     "user": {
      "displayName": "KATLA NEHA",
      "photoUrl": "",
      "userId": "07378799494353358546"
     },
     "user_tz": -330
    },
    "id": "wqUL4VzP1d7i",
    "outputId": "8494edeb-88aa-4841-e4cf-d5dc6b43e21f"
   },
   "outputs": [
    {
     "data": {
      "text/plain": [
       "LogisticRegression(C=1.0, class_weight=None, dual=False, fit_intercept=True,\n",
       "                   intercept_scaling=1, l1_ratio=None, max_iter=100,\n",
       "                   multi_class='auto', n_jobs=None, penalty='l2',\n",
       "                   random_state=0, solver='lbfgs', tol=0.0001, verbose=0,\n",
       "                   warm_start=False)"
      ]
     },
     "execution_count": 31,
     "metadata": {
      "tags": []
     },
     "output_type": "execute_result"
    }
   ],
   "source": [
    "from sklearn.linear_model import LogisticRegression\n",
    "classifier = LogisticRegression(random_state = 0)\n",
    "classifier.fit(X_train, y_train)"
   ]
  },
  {
   "cell_type": "code",
   "execution_count": 32,
   "metadata": {
    "colab": {},
    "colab_type": "code",
    "executionInfo": {
     "elapsed": 826,
     "status": "ok",
     "timestamp": 1592541523466,
     "user": {
      "displayName": "KATLA NEHA",
      "photoUrl": "",
      "userId": "07378799494353358546"
     },
     "user_tz": -330
    },
    "id": "gcjq-bt_2ykt"
   },
   "outputs": [],
   "source": [
    "predictions = classifier.predict(X_test)\n",
    "y_pred_train_lr = classifier.predict(X_train) "
   ]
  },
  {
   "cell_type": "code",
   "execution_count": 34,
   "metadata": {
    "colab": {},
    "colab_type": "code",
    "executionInfo": {
     "elapsed": 1123,
     "status": "ok",
     "timestamp": 1592541565664,
     "user": {
      "displayName": "KATLA NEHA",
      "photoUrl": "",
      "userId": "07378799494353358546"
     },
     "user_tz": -330
    },
    "id": "FbDa3TPf38g5"
   },
   "outputs": [],
   "source": [
    "from sklearn.metrics import f1_score"
   ]
  },
  {
   "cell_type": "code",
   "execution_count": 35,
   "metadata": {
    "colab": {
     "base_uri": "https://localhost:8080/",
     "height": 34
    },
    "colab_type": "code",
    "executionInfo": {
     "elapsed": 5230,
     "status": "ok",
     "timestamp": 1592541571988,
     "user": {
      "displayName": "KATLA NEHA",
      "photoUrl": "",
      "userId": "07378799494353358546"
     },
     "user_tz": -330
    },
    "id": "MsxYk9tZ3yll",
    "outputId": "451d3ebc-1944-49ed-a8fe-27652803d271"
   },
   "outputs": [
    {
     "name": "stdout",
     "output_type": "stream",
     "text": [
      "F1 Score: 0.814070351758794\n"
     ]
    }
   ],
   "source": [
    "print(\"F1 Score:\",f1_score(y_pred_train_lr,y_train))"
   ]
  },
  {
   "cell_type": "code",
   "execution_count": 36,
   "metadata": {
    "colab": {},
    "colab_type": "code",
    "executionInfo": {
     "elapsed": 1078,
     "status": "ok",
     "timestamp": 1592541622398,
     "user": {
      "displayName": "KATLA NEHA",
      "photoUrl": "",
      "userId": "07378799494353358546"
     },
     "user_tz": -330
    },
    "id": "JHUu96cH34H8"
   },
   "outputs": [],
   "source": [
    "res = pd.DataFrame(predictions)\n",
    "res.index = test.index # its important for comparison\n",
    "res.columns = [\"prediction\"]\n",
    "res.to_csv(\"prediction_results_LP.csv\")      "
   ]
  },
  {
   "cell_type": "code",
   "execution_count": null,
   "metadata": {
    "colab": {},
    "colab_type": "code",
    "id": "1k0PAvla4KvU"
   },
   "outputs": [],
   "source": []
  }
 ],
 "metadata": {
  "colab": {
   "authorship_tag": "ABX9TyOV/Q5A5DcUeHbFk7nKI8/z",
   "collapsed_sections": [],
   "name": "logreg_dphi.ipynb",
   "provenance": []
  },
  "kernelspec": {
   "display_name": "Python 3",
   "language": "python",
   "name": "python3"
  },
  "language_info": {
   "codemirror_mode": {
    "name": "ipython",
    "version": 3
   },
   "file_extension": ".py",
   "mimetype": "text/x-python",
   "name": "python",
   "nbconvert_exporter": "python",
   "pygments_lexer": "ipython3",
   "version": "3.7.6"
  }
 },
 "nbformat": 4,
 "nbformat_minor": 1
}
